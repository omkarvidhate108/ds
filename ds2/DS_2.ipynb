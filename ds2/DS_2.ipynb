{
 "cells": [
  {
   "cell_type": "code",
   "execution_count": 4,
   "id": "dc60cfa9-2dd4-4e12-83bd-acfea6d7c820",
   "metadata": {},
   "outputs": [],
   "source": [
    "import pandas as pd\n",
    "import numpy as np\n",
    "np.random.seed(0)\n"
   ]
  },
  {
   "cell_type": "code",
   "execution_count": 5,
   "id": "b217bd8f-4333-4779-b307-78a5c8a262f6",
   "metadata": {},
   "outputs": [],
   "source": [
    "student_ids = np.arange(1,101)\n",
    "math_scores = np.random.randint(0,101,size=100)\n",
    "science_scores = np.random.randint(0,101,size = 100)\n",
    "english_scores = np.random.randint(0,101,size = 100)"
   ]
  },
  {
   "cell_type": "code",
   "execution_count": 8,
   "id": "5c5ae026-1e2e-44d8-9fd0-4ab39c8ac20c",
   "metadata": {},
   "outputs": [],
   "source": [
    "# create dataframe\n",
    "academic_df = pd.DataFrame({\n",
    "    'Student_id': student_ids,\n",
    "    'math_score': math_scores,\n",
    "    'science_score' : science_scores,\n",
    "    'English_score':english_scores\n",
    "})"
   ]
  },
  {
   "cell_type": "code",
   "execution_count": 9,
   "id": "713ca32b-a288-47e3-a433-d7d29b5870fc",
   "metadata": {},
   "outputs": [
    {
     "data": {
      "text/html": [
       "<div>\n",
       "<style scoped>\n",
       "    .dataframe tbody tr th:only-of-type {\n",
       "        vertical-align: middle;\n",
       "    }\n",
       "\n",
       "    .dataframe tbody tr th {\n",
       "        vertical-align: top;\n",
       "    }\n",
       "\n",
       "    .dataframe thead th {\n",
       "        text-align: right;\n",
       "    }\n",
       "</style>\n",
       "<table border=\"1\" class=\"dataframe\">\n",
       "  <thead>\n",
       "    <tr style=\"text-align: right;\">\n",
       "      <th></th>\n",
       "      <th>Student_id</th>\n",
       "      <th>math_score</th>\n",
       "      <th>science_score</th>\n",
       "      <th>English_score</th>\n",
       "    </tr>\n",
       "  </thead>\n",
       "  <tbody>\n",
       "    <tr>\n",
       "      <th>0</th>\n",
       "      <td>1</td>\n",
       "      <td>44</td>\n",
       "      <td>48</td>\n",
       "      <td>70</td>\n",
       "    </tr>\n",
       "    <tr>\n",
       "      <th>1</th>\n",
       "      <td>2</td>\n",
       "      <td>47</td>\n",
       "      <td>49</td>\n",
       "      <td>85</td>\n",
       "    </tr>\n",
       "    <tr>\n",
       "      <th>2</th>\n",
       "      <td>3</td>\n",
       "      <td>64</td>\n",
       "      <td>69</td>\n",
       "      <td>31</td>\n",
       "    </tr>\n",
       "    <tr>\n",
       "      <th>3</th>\n",
       "      <td>4</td>\n",
       "      <td>67</td>\n",
       "      <td>41</td>\n",
       "      <td>13</td>\n",
       "    </tr>\n",
       "    <tr>\n",
       "      <th>4</th>\n",
       "      <td>5</td>\n",
       "      <td>67</td>\n",
       "      <td>35</td>\n",
       "      <td>71</td>\n",
       "    </tr>\n",
       "  </tbody>\n",
       "</table>\n",
       "</div>"
      ],
      "text/plain": [
       "   Student_id  math_score  science_score  English_score\n",
       "0           1          44             48             70\n",
       "1           2          47             49             85\n",
       "2           3          64             69             31\n",
       "3           4          67             41             13\n",
       "4           5          67             35             71"
      ]
     },
     "execution_count": 9,
     "metadata": {},
     "output_type": "execute_result"
    }
   ],
   "source": [
    "academic_df.head()"
   ]
  },
  {
   "cell_type": "code",
   "execution_count": 10,
   "id": "88427d9f-20e4-4144-b15f-970864927b71",
   "metadata": {},
   "outputs": [
    {
     "data": {
      "text/plain": [
       "Student_id       0\n",
       "math_score       0\n",
       "science_score    0\n",
       "English_score    0\n",
       "dtype: int64"
      ]
     },
     "execution_count": 10,
     "metadata": {},
     "output_type": "execute_result"
    }
   ],
   "source": [
    "academic_df.isnull().sum()"
   ]
  },
  {
   "cell_type": "code",
   "execution_count": 11,
   "id": "fb972f43-497c-425f-a1fa-ca184ba176a3",
   "metadata": {},
   "outputs": [
    {
     "name": "stdout",
     "output_type": "stream",
     "text": [
      "\n",
      "Inconsistencies:\n",
      "Student_id       False\n",
      "math_score       False\n",
      "science_score    False\n",
      "English_score    False\n",
      "dtype: bool\n"
     ]
    }
   ],
   "source": [
    "inconsistencies = ( academic_df < 0) | (academic_df > 100)\n",
    "print(\"\\nInconsistencies:\")\n",
    "print(inconsistencies.any())"
   ]
  },
  {
   "cell_type": "code",
   "execution_count": 13,
   "id": "8af8def2-d483-4468-a13a-f38dbfe164c2",
   "metadata": {},
   "outputs": [
    {
     "data": {
      "text/plain": [
       "<Axes: >"
      ]
     },
     "execution_count": 13,
     "metadata": {},
     "output_type": "execute_result"
    },
    {
     "data": {
      "image/png": "[encoded data removed]",
      "text/plain": [
       "<Figure size 640x480 with 1 Axes>"
      ]
     },
     "metadata": {},
     "output_type": "display_data"
    }
   ],
   "source": [
    "academic_df[['math_score','science_score','English_score']].boxplot()"
   ]
  },
  {
   "cell_type": "code",
   "execution_count": 16,
   "id": "733c980f-3bfd-4ea2-9239-c5d4930ab5d6",
   "metadata": {},
   "outputs": [
    {
     "name": "stdout",
     "output_type": "stream",
     "text": [
      "0     3.806662\n",
      "1     3.871201\n",
      "2     4.174387\n",
      "3     4.219508\n",
      "4     4.219508\n",
      "        ...   \n",
      "95    4.077537\n",
      "96    3.178054\n",
      "97    4.382027\n",
      "98    2.639057\n",
      "99    4.454347\n",
      "Name: Math_Score_Log, Length: 100, dtype: float64\n"
     ]
    }
   ],
   "source": [
    "# Apply logarithmic transformation to Math_Score variable\n",
    "academic_df['Math_Score_Log'] = np.log1p(academic_df['math_score'])\n",
    "print(academic_df['Math_Score_Log'])"
   ]
  },
  {
   "cell_type": "code",
   "execution_count": null,
   "id": "dd842be9-2da6-451f-8676-3df86b2f288c",
   "metadata": {},
   "outputs": [],
   "source": []
  }
 ],
 "metadata": {
  "kernelspec": {
   "display_name": "Python 3 (ipykernel)",
   "language": "python",
   "name": "python3"
  },
  "language_info": {
   "codemirror_mode": {
    "name": "ipython",
    "version": 3
   },
   "file_extension": ".py",
   "mimetype": "text/x-python",
   "name": "python",
   "nbconvert_exporter": "python",
   "pygments_lexer": "ipython3",
   "version": "3.11.5"
  }
 },
 "nbformat": 4,
 "nbformat_minor": 5
}

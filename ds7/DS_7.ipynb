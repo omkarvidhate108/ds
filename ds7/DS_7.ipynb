{
 "cells": [
  {
   "cell_type": "code",
   "execution_count": 37,
   "id": "3832a72b-e14e-488e-b187-fcaefba281fb",
   "metadata": {},
   "outputs": [],
   "source": [
    "import nltk"
   ]
  },
  {
   "cell_type": "code",
   "execution_count": 38,
   "id": "342f9a35-3a41-4914-9184-dbf0370aa1b5",
   "metadata": {},
   "outputs": [
    {
     "name": "stdout",
     "output_type": "stream",
     "text": [
      "WORDS: ['Cricket', 'is', 'a', 'well', 'known', 'sport', '.', 'Cricket', 'is', 'watched', 'and', 'played', 'all', 'over', 'the', 'globe', '.']\n",
      "\n",
      "SENTENCES: ['Cricket is a well known sport.', 'Cricket is watched and played all over the globe.']\n"
     ]
    }
   ],
   "source": [
    "#TOKENIZATION - BREAK DOWN SENTENCES TO WORDS (WORD TOKENIZATION) AND BREAK DOWN MULTIPLE SENTENCES OR PARAGRAPHS TO A FEW SENTENCES (SENTENECE TOKENIZATION)\n",
    "\n",
    "sentence = 'Cricket is a well known sport. Cricket is watched and played all over the globe.'\n",
    "\n",
    "word_token = nltk.word_tokenize(sentence)\n",
    "sentence_token = nltk.sent_tokenize(sentence)\n",
    "\n",
    "print(\"WORDS:\", word_token,end=\"\\n\\n\")\n",
    "print(\"SENTENCES:\", sentence_token)"
   ]
  },
  {
   "cell_type": "code",
   "execution_count": 39,
   "id": "ba32ef96-383d-4293-8d79-d57d70ec332f",
   "metadata": {},
   "outputs": [
    {
     "name": "stdout",
     "output_type": "stream",
     "text": [
      "['Cricket', 'well', 'known', 'sport', 'Cricket', 'watched', 'played', 'globe']\n"
     ]
    }
   ],
   "source": [
    "#STOPWORDS REMOVAL - REMOVE WORDS WHICH DO NOT POSSESS RELEVANCE\n",
    "\n",
    "stopwords = nltk.corpus.stopwords.words('english')\n",
    "\n",
    "cleaned_words = []\n",
    "\n",
    "for word in word_token:\n",
    "\n",
    "    if word not in stopwords and word.isalpha(): cleaned_words.append(word)\n",
    "\n",
    "print(cleaned_words)"
   ]
  },
  {
   "cell_type": "code",
   "execution_count": 40,
   "id": "e0235ae6-bc3a-4256-a71a-2d5c1b46fdfb",
   "metadata": {},
   "outputs": [
    {
     "name": "stdout",
     "output_type": "stream",
     "text": [
      "['cricket', 'well', 'known', 'sport', 'cricket', 'watch', 'play', 'globe']\n"
     ]
    }
   ],
   "source": [
    "#STEMMING - REMOVAL OF COMMON SUFFIXES\n",
    "\n",
    "stemmer = nltk.PorterStemmer()\n",
    "\n",
    "stem_words = []\n",
    "\n",
    "for word in cleaned_words:\n",
    "\n",
    "    stem_words.append(stemmer.stem(word))\n",
    "\n",
    "print(stem_words)"
   ]
  },
  {
   "cell_type": "code",
   "execution_count": 41,
   "id": "5cb635cc-d5b9-42cf-8843-43a8647ef9f5",
   "metadata": {},
   "outputs": [
    {
     "name": "stdout",
     "output_type": "stream",
     "text": [
      "['Cricket', 'well', 'known', 'sport', 'Cricket', 'watched', 'played', 'globe']\n"
     ]
    }
   ],
   "source": [
    "#LEMMETIZATION - Converts words to its primitive form\n",
    "\n",
    "lemmeter = nltk.stem.WordNetLemmatizer()\n",
    "\n",
    "lemmet_words = []\n",
    "\n",
    "for word in cleaned_words:\n",
    "\n",
    "    lemmet_words.append(lemmeter.lemmatize(word))\n",
    "\n",
    "print(lemmet_words)"
   ]
  },
  {
   "cell_type": "code",
   "execution_count": 42,
   "id": "384d7346-c53c-48e2-8e53-b9ed7dfc52dd",
   "metadata": {},
   "outputs": [
    {
     "data": {
      "text/plain": [
       "[('Cricket', 'NNP'),\n",
       " ('well', 'RB'),\n",
       " ('known', 'VBN'),\n",
       " ('sport', 'NN'),\n",
       " ('Cricket', 'NNP'),\n",
       " ('watched', 'VBD'),\n",
       " ('played', 'VBN'),\n",
       " ('globe', 'NN')]"
      ]
     },
     "execution_count": 42,
     "metadata": {},
     "output_type": "execute_result"
    }
   ],
   "source": [
    "#POS TAGGING - ASSIGNS VALUES TO WORDS\n",
    "\n",
    "pos_words = nltk.pos_tag(lemmet_words)\n",
    "\n",
    "pos_words"
   ]
  },
  {
   "cell_type": "code",
   "execution_count": 43,
   "id": "f08d2c4d-e911-409e-bd7e-31e7b11b81c0",
   "metadata": {},
   "outputs": [
    {
     "data": {
      "text/plain": [
       "{'cricket': 2,\n",
       " 'is': 4,\n",
       " 'well': 11,\n",
       " 'known': 5,\n",
       " 'sport': 8,\n",
       " 'watched': 10,\n",
       " 'and': 1,\n",
       " 'played': 7,\n",
       " 'all': 0,\n",
       " 'over': 6,\n",
       " 'the': 9,\n",
       " 'globe': 3}"
      ]
     },
     "execution_count": 43,
     "metadata": {},
     "output_type": "execute_result"
    }
   ],
   "source": [
    "#TF-IDF (TERM FREQUENCY INVERSE DOCUMENT FREQUENCY)\n",
    "\n",
    "from sklearn.feature_extraction.text import TfidfVectorizer\n",
    "\n",
    "model = TfidfVectorizer()\n",
    "\n",
    "model_fit = model.fit([sentence])\n",
    "model_fit.vocabulary_"
   ]
  },
  {
   "cell_type": "code",
   "execution_count": null,
   "id": "2f38ee6a-c3aa-497b-9967-d11e1d4c6e5e",
   "metadata": {},
   "outputs": [],
   "source": []
  }
 ],
 "metadata": {
  "kernelspec": {
   "display_name": "Python 3 (ipykernel)",
   "language": "python",
   "name": "python3"
  },
  "language_info": {
   "codemirror_mode": {
    "name": "ipython",
    "version": 3
   },
   "file_extension": ".py",
   "mimetype": "text/x-python",
   "name": "python",
   "nbconvert_exporter": "python",
   "pygments_lexer": "ipython3",
   "version": "3.11.5"
  }
 },
 "nbformat": 4,
 "nbformat_minor": 5
}

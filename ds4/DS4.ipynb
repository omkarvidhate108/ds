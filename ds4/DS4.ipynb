{
 "cells": [
  {
   "cell_type": "code",
   "execution_count": null,
   "id": "aa007502-c2c0-4057-8ac5-9a0d0fb78512",
   "metadata": {},
   "outputs": [],
   "source": []
  },
  {
   "cell_type": "code",
   "execution_count": 139,
   "id": "39b9dd1c-2d1d-46d2-8b4a-032e412311fd",
   "metadata": {},
   "outputs": [
    {
     "data": {
      "text/plain": [
       "' Create a Linear Regression Model using Python/R to predict home prices using Boston\\nHousing Dataset (https://www.kaggle.com/c/boston-housing). The Boston Housing dataset\\ncontains information about various houses in Boston through different parameters. There\\nare 506 samples and 14 feature variables in this dataset. The objective is to predict the\\nvalue of prices of the house using the given features'"
      ]
     },
     "execution_count": 139,
     "metadata": {},
     "output_type": "execute_result"
    }
   ],
   "source": [
    "''' Create a Linear Regression Model using Python/R to predict home prices using Boston\n",
    "Housing Dataset (https://www.kaggle.com/c/boston-housing). The Boston Housing dataset\n",
    "contains information about various houses in Boston through different parameters. There\n",
    "are 506 samples and 14 feature variables in this dataset. The objective is to predict the\n",
    "value of prices of the house using the given features'''"
   ]
  },
  {
   "cell_type": "code",
   "execution_count": 140,
   "id": "092735d0-12cb-45a9-899c-913e75e66ec6",
   "metadata": {},
   "outputs": [],
   "source": [
    "import numpy as np\n",
    "import pandas as pd\n",
    "import matplotlib.pyplot as plt"
   ]
  },
  {
   "cell_type": "code",
   "execution_count": 141,
   "id": "2480eadf-0fec-4044-9ebc-0e38b48874aa",
   "metadata": {},
   "outputs": [],
   "source": [
    "data = pd.read_csv(\"HousingData.csv\")"
   ]
  },
  {
   "cell_type": "code",
   "execution_count": 142,
   "id": "7354e066-53be-4d3f-a8a7-bb662d7ce167",
   "metadata": {},
   "outputs": [
    {
     "data": {
      "text/html": [
       "<div>\n",
       "<style scoped>\n",
       "    .dataframe tbody tr th:only-of-type {\n",
       "        vertical-align: middle;\n",
       "    }\n",
       "\n",
       "    .dataframe tbody tr th {\n",
       "        vertical-align: top;\n",
       "    }\n",
       "\n",
       "    .dataframe thead th {\n",
       "        text-align: right;\n",
       "    }\n",
       "</style>\n",
       "<table border=\"1\" class=\"dataframe\">\n",
       "  <thead>\n",
       "    <tr style=\"text-align: right;\">\n",
       "      <th></th>\n",
       "      <th>CRIM</th>\n",
       "      <th>ZN</th>\n",
       "      <th>INDUS</th>\n",
       "      <th>CHAS</th>\n",
       "      <th>NOX</th>\n",
       "      <th>RM</th>\n",
       "      <th>AGE</th>\n",
       "      <th>DIS</th>\n",
       "      <th>RAD</th>\n",
       "      <th>TAX</th>\n",
       "      <th>PTRATIO</th>\n",
       "      <th>B</th>\n",
       "      <th>LSTAT</th>\n",
       "      <th>MEDV</th>\n",
       "    </tr>\n",
       "  </thead>\n",
       "  <tbody>\n",
       "    <tr>\n",
       "      <th>0</th>\n",
       "      <td>0.00632</td>\n",
       "      <td>18.0</td>\n",
       "      <td>2.31</td>\n",
       "      <td>0.0</td>\n",
       "      <td>0.538</td>\n",
       "      <td>6.575</td>\n",
       "      <td>65.2</td>\n",
       "      <td>4.0900</td>\n",
       "      <td>1</td>\n",
       "      <td>296</td>\n",
       "      <td>15.3</td>\n",
       "      <td>396.90</td>\n",
       "      <td>4.98</td>\n",
       "      <td>24.0</td>\n",
       "    </tr>\n",
       "    <tr>\n",
       "      <th>1</th>\n",
       "      <td>0.02731</td>\n",
       "      <td>0.0</td>\n",
       "      <td>7.07</td>\n",
       "      <td>0.0</td>\n",
       "      <td>0.469</td>\n",
       "      <td>6.421</td>\n",
       "      <td>78.9</td>\n",
       "      <td>4.9671</td>\n",
       "      <td>2</td>\n",
       "      <td>242</td>\n",
       "      <td>17.8</td>\n",
       "      <td>396.90</td>\n",
       "      <td>9.14</td>\n",
       "      <td>21.6</td>\n",
       "    </tr>\n",
       "    <tr>\n",
       "      <th>2</th>\n",
       "      <td>0.02729</td>\n",
       "      <td>0.0</td>\n",
       "      <td>7.07</td>\n",
       "      <td>0.0</td>\n",
       "      <td>0.469</td>\n",
       "      <td>7.185</td>\n",
       "      <td>61.1</td>\n",
       "      <td>4.9671</td>\n",
       "      <td>2</td>\n",
       "      <td>242</td>\n",
       "      <td>17.8</td>\n",
       "      <td>392.83</td>\n",
       "      <td>4.03</td>\n",
       "      <td>34.7</td>\n",
       "    </tr>\n",
       "    <tr>\n",
       "      <th>3</th>\n",
       "      <td>0.03237</td>\n",
       "      <td>0.0</td>\n",
       "      <td>2.18</td>\n",
       "      <td>0.0</td>\n",
       "      <td>0.458</td>\n",
       "      <td>6.998</td>\n",
       "      <td>45.8</td>\n",
       "      <td>6.0622</td>\n",
       "      <td>3</td>\n",
       "      <td>222</td>\n",
       "      <td>18.7</td>\n",
       "      <td>394.63</td>\n",
       "      <td>2.94</td>\n",
       "      <td>33.4</td>\n",
       "    </tr>\n",
       "    <tr>\n",
       "      <th>4</th>\n",
       "      <td>0.06905</td>\n",
       "      <td>0.0</td>\n",
       "      <td>2.18</td>\n",
       "      <td>0.0</td>\n",
       "      <td>0.458</td>\n",
       "      <td>7.147</td>\n",
       "      <td>54.2</td>\n",
       "      <td>6.0622</td>\n",
       "      <td>3</td>\n",
       "      <td>222</td>\n",
       "      <td>18.7</td>\n",
       "      <td>396.90</td>\n",
       "      <td>NaN</td>\n",
       "      <td>36.2</td>\n",
       "    </tr>\n",
       "  </tbody>\n",
       "</table>\n",
       "</div>"
      ],
      "text/plain": [
       "      CRIM    ZN  INDUS  CHAS    NOX     RM   AGE     DIS  RAD  TAX  PTRATIO  \\\n",
       "0  0.00632  18.0   2.31   0.0  0.538  6.575  65.2  4.0900    1  296     15.3   \n",
       "1  0.02731   0.0   7.07   0.0  0.469  6.421  78.9  4.9671    2  242     17.8   \n",
       "2  0.02729   0.0   7.07   0.0  0.469  7.185  61.1  4.9671    2  242     17.8   \n",
       "3  0.03237   0.0   2.18   0.0  0.458  6.998  45.8  6.0622    3  222     18.7   \n",
       "4  0.06905   0.0   2.18   0.0  0.458  7.147  54.2  6.0622    3  222     18.7   \n",
       "\n",
       "        B  LSTAT  MEDV  \n",
       "0  396.90   4.98  24.0  \n",
       "1  396.90   9.14  21.6  \n",
       "2  392.83   4.03  34.7  \n",
       "3  394.63   2.94  33.4  \n",
       "4  396.90    NaN  36.2  "
      ]
     },
     "execution_count": 142,
     "metadata": {},
     "output_type": "execute_result"
    }
   ],
   "source": [
    "data.head()"
   ]
  },
  {
   "cell_type": "code",
   "execution_count": 143,
   "id": "430e7e50-dd4a-4c23-9d90-7a97b0b69c19",
   "metadata": {},
   "outputs": [
    {
     "data": {
      "text/html": [
       "<div>\n",
       "<style scoped>\n",
       "    .dataframe tbody tr th:only-of-type {\n",
       "        vertical-align: middle;\n",
       "    }\n",
       "\n",
       "    .dataframe tbody tr th {\n",
       "        vertical-align: top;\n",
       "    }\n",
       "\n",
       "    .dataframe thead th {\n",
       "        text-align: right;\n",
       "    }\n",
       "</style>\n",
       "<table border=\"1\" class=\"dataframe\">\n",
       "  <thead>\n",
       "    <tr style=\"text-align: right;\">\n",
       "      <th></th>\n",
       "      <th>CRIM</th>\n",
       "      <th>ZN</th>\n",
       "      <th>INDUS</th>\n",
       "      <th>CHAS</th>\n",
       "      <th>NOX</th>\n",
       "      <th>RM</th>\n",
       "      <th>AGE</th>\n",
       "      <th>DIS</th>\n",
       "      <th>RAD</th>\n",
       "      <th>TAX</th>\n",
       "      <th>PTRATIO</th>\n",
       "      <th>B</th>\n",
       "      <th>LSTAT</th>\n",
       "      <th>MEDV</th>\n",
       "    </tr>\n",
       "  </thead>\n",
       "  <tbody>\n",
       "    <tr>\n",
       "      <th>501</th>\n",
       "      <td>0.06263</td>\n",
       "      <td>0.0</td>\n",
       "      <td>11.93</td>\n",
       "      <td>0.0</td>\n",
       "      <td>0.573</td>\n",
       "      <td>6.593</td>\n",
       "      <td>69.1</td>\n",
       "      <td>2.4786</td>\n",
       "      <td>1</td>\n",
       "      <td>273</td>\n",
       "      <td>21.0</td>\n",
       "      <td>391.99</td>\n",
       "      <td>NaN</td>\n",
       "      <td>22.4</td>\n",
       "    </tr>\n",
       "    <tr>\n",
       "      <th>502</th>\n",
       "      <td>0.04527</td>\n",
       "      <td>0.0</td>\n",
       "      <td>11.93</td>\n",
       "      <td>0.0</td>\n",
       "      <td>0.573</td>\n",
       "      <td>6.120</td>\n",
       "      <td>76.7</td>\n",
       "      <td>2.2875</td>\n",
       "      <td>1</td>\n",
       "      <td>273</td>\n",
       "      <td>21.0</td>\n",
       "      <td>396.90</td>\n",
       "      <td>9.08</td>\n",
       "      <td>20.6</td>\n",
       "    </tr>\n",
       "    <tr>\n",
       "      <th>503</th>\n",
       "      <td>0.06076</td>\n",
       "      <td>0.0</td>\n",
       "      <td>11.93</td>\n",
       "      <td>0.0</td>\n",
       "      <td>0.573</td>\n",
       "      <td>6.976</td>\n",
       "      <td>91.0</td>\n",
       "      <td>2.1675</td>\n",
       "      <td>1</td>\n",
       "      <td>273</td>\n",
       "      <td>21.0</td>\n",
       "      <td>396.90</td>\n",
       "      <td>5.64</td>\n",
       "      <td>23.9</td>\n",
       "    </tr>\n",
       "    <tr>\n",
       "      <th>504</th>\n",
       "      <td>0.10959</td>\n",
       "      <td>0.0</td>\n",
       "      <td>11.93</td>\n",
       "      <td>0.0</td>\n",
       "      <td>0.573</td>\n",
       "      <td>6.794</td>\n",
       "      <td>89.3</td>\n",
       "      <td>2.3889</td>\n",
       "      <td>1</td>\n",
       "      <td>273</td>\n",
       "      <td>21.0</td>\n",
       "      <td>393.45</td>\n",
       "      <td>6.48</td>\n",
       "      <td>22.0</td>\n",
       "    </tr>\n",
       "    <tr>\n",
       "      <th>505</th>\n",
       "      <td>0.04741</td>\n",
       "      <td>0.0</td>\n",
       "      <td>11.93</td>\n",
       "      <td>0.0</td>\n",
       "      <td>0.573</td>\n",
       "      <td>6.030</td>\n",
       "      <td>NaN</td>\n",
       "      <td>2.5050</td>\n",
       "      <td>1</td>\n",
       "      <td>273</td>\n",
       "      <td>21.0</td>\n",
       "      <td>396.90</td>\n",
       "      <td>7.88</td>\n",
       "      <td>11.9</td>\n",
       "    </tr>\n",
       "  </tbody>\n",
       "</table>\n",
       "</div>"
      ],
      "text/plain": [
       "        CRIM   ZN  INDUS  CHAS    NOX     RM   AGE     DIS  RAD  TAX  PTRATIO  \\\n",
       "501  0.06263  0.0  11.93   0.0  0.573  6.593  69.1  2.4786    1  273     21.0   \n",
       "502  0.04527  0.0  11.93   0.0  0.573  6.120  76.7  2.2875    1  273     21.0   \n",
       "503  0.06076  0.0  11.93   0.0  0.573  6.976  91.0  2.1675    1  273     21.0   \n",
       "504  0.10959  0.0  11.93   0.0  0.573  6.794  89.3  2.3889    1  273     21.0   \n",
       "505  0.04741  0.0  11.93   0.0  0.573  6.030   NaN  2.5050    1  273     21.0   \n",
       "\n",
       "          B  LSTAT  MEDV  \n",
       "501  391.99    NaN  22.4  \n",
       "502  396.90   9.08  20.6  \n",
       "503  396.90   5.64  23.9  \n",
       "504  393.45   6.48  22.0  \n",
       "505  396.90   7.88  11.9  "
      ]
     },
     "execution_count": 143,
     "metadata": {},
     "output_type": "execute_result"
    }
   ],
   "source": [
    "data.tail()"
   ]
  },
  {
   "cell_type": "code",
   "execution_count": 144,
   "id": "3e10b298-6fde-4585-81eb-c3c90056001b",
   "metadata": {},
   "outputs": [
    {
     "name": "stdout",
     "output_type": "stream",
     "text": [
      "The shape of the data is: \n"
     ]
    },
    {
     "data": {
      "text/plain": [
       "(506, 14)"
      ]
     },
     "execution_count": 144,
     "metadata": {},
     "output_type": "execute_result"
    }
   ],
   "source": [
    "print(\"The shape of the data is: \")\n",
    "data.shape"
   ]
  },
  {
   "cell_type": "code",
   "execution_count": 145,
   "id": "2f3a2ae6-31ca-4b3a-8858-deeea6696707",
   "metadata": {},
   "outputs": [
    {
     "data": {
      "text/plain": [
       "CRIM       20\n",
       "ZN         20\n",
       "INDUS      20\n",
       "CHAS       20\n",
       "NOX         0\n",
       "RM          0\n",
       "AGE        20\n",
       "DIS         0\n",
       "RAD         0\n",
       "TAX         0\n",
       "PTRATIO     0\n",
       "B           0\n",
       "LSTAT      20\n",
       "MEDV        0\n",
       "dtype: int64"
      ]
     },
     "execution_count": 145,
     "metadata": {},
     "output_type": "execute_result"
    }
   ],
   "source": [
    "data.isnull().sum()"
   ]
  },
  {
   "cell_type": "code",
   "execution_count": 146,
   "id": "9e0c5516-2c89-4ff4-8870-68100bb0f153",
   "metadata": {},
   "outputs": [
    {
     "name": "stdout",
     "output_type": "stream",
     "text": [
      "Average of crim is:  3.6118739711934156\n"
     ]
    }
   ],
   "source": [
    "# remove missing values with thier average\n",
    "avg_crim = data[\"CRIM\"].astype(\"float\").mean(axis = 0)\n",
    "print(\"Average of crim is: \",avg_crim)"
   ]
  },
  {
   "cell_type": "code",
   "execution_count": 147,
   "id": "a9225afa-12e8-43c9-8835-ae73b55ce7de",
   "metadata": {},
   "outputs": [],
   "source": [
    "data[\"CRIM\"].replace(np.nan,avg_crim,inplace = True)"
   ]
  },
  {
   "cell_type": "code",
   "execution_count": 148,
   "id": "e97b04d7-efe7-46f5-862f-07df806ab831",
   "metadata": {},
   "outputs": [],
   "source": [
    "avg_zn = data[\"ZN\"].astype(\"float\").mean(axis = 0)\n",
    "data[\"ZN\"].replace(np.nan,avg_zn,inplace = True)\n",
    "\n",
    "avg_indus = data[\"INDUS\"].astype(\"float\").mean(axis = 0)\n",
    "data[\"INDUS\"].replace(np.nan,avg_indus,inplace = True)\n",
    "\n",
    "avg_chas = data[\"CHAS\"].astype(\"float\").mean(axis = 0)\n",
    "data[\"CHAS\"].replace(np.nan,avg_chas,inplace = True)\n",
    "\n",
    "avg_age = data[\"AGE\"].astype(\"float\").mean(axis = 0)\n",
    "data[\"AGE\"].replace(np.nan,avg_age,inplace = True)\n",
    "\n",
    "avg_lstat = data[\"LSTAT\"].astype(\"float\").mean(axis = 0)\n",
    "data[\"LSTAT\"].replace(np.nan,avg_lstat,inplace = True)"
   ]
  },
  {
   "cell_type": "code",
   "execution_count": 149,
   "id": "d5f4d9c3-bf95-481a-bf3f-d1f17e25b614",
   "metadata": {},
   "outputs": [
    {
     "data": {
      "text/plain": [
       "CRIM       0\n",
       "ZN         0\n",
       "INDUS      0\n",
       "CHAS       0\n",
       "NOX        0\n",
       "RM         0\n",
       "AGE        0\n",
       "DIS        0\n",
       "RAD        0\n",
       "TAX        0\n",
       "PTRATIO    0\n",
       "B          0\n",
       "LSTAT      0\n",
       "MEDV       0\n",
       "dtype: int64"
      ]
     },
     "execution_count": 149,
     "metadata": {},
     "output_type": "execute_result"
    }
   ],
   "source": [
    "data.isnull().sum()"
   ]
  },
  {
   "cell_type": "code",
   "execution_count": 150,
   "id": "094b5795-85ba-4629-aa7c-2e3628c6d71b",
   "metadata": {},
   "outputs": [],
   "source": [
    "X = data.iloc[:,0:13]\n",
    "y = data.iloc[:,-1]"
   ]
  },
  {
   "cell_type": "code",
   "execution_count": 151,
   "id": "713199e9-60e8-428f-90ff-59ec71885ec3",
   "metadata": {},
   "outputs": [],
   "source": [
    "from sklearn.model_selection import train_test_split\n",
    "X_train, X_test, y_train, y_test = train_test_split(X, y, test_size=0.20,random_state=0)"
   ]
  },
  {
   "cell_type": "code",
   "execution_count": 152,
   "id": "4ab97c20-5f43-4a98-aabc-c29a46fd584d",
   "metadata": {},
   "outputs": [
    {
     "name": "stdout",
     "output_type": "stream",
     "text": [
      "(404, 13)\n",
      "(102, 13)\n",
      "(404,)\n",
      "(102,)\n"
     ]
    }
   ],
   "source": [
    "print(X_train.shape)\n",
    "print(X_test.shape)\n",
    "print(y_train.shape)\n",
    "print(y_test.shape)"
   ]
  },
  {
   "cell_type": "code",
   "execution_count": 153,
   "id": "ed284ff9-d392-4606-b31b-e4dae7202017",
   "metadata": {},
   "outputs": [],
   "source": [
    "from sklearn.linear_model import LinearRegression\n",
    "regressor = LinearRegression()\n",
    "regressor.fit(X_train, y_train)\n",
    "  \n",
    "# predicting the test set results\n",
    "y_pred = regressor.predict(X_test)"
   ]
  },
  {
   "cell_type": "code",
   "execution_count": 154,
   "id": "808fff3a-120a-4512-9766-df4a2bdca2fd",
   "metadata": {},
   "outputs": [
    {
     "name": "stdout",
     "output_type": "stream",
     "text": [
      "[26.175296   22.64747588 29.1456294  11.52971235 21.65312134 19.42320699\n",
      " 20.18413017 21.46914355 19.1985363  19.98228162  4.32483046 16.16891668\n",
      " 16.87682404  5.31232373 39.36827861 33.09358732 21.9152876  36.61918436\n",
      " 31.52676377 23.52713482 24.96022461 23.69866912 20.88033802 30.55074901\n",
      " 22.74081741  8.66805959 17.65119072 17.93088633 36.01223185 21.16299556\n",
      " 17.83464361 17.43306603 19.5240167  23.50605522 28.97262793 19.21808862\n",
      " 11.23997435 23.94256597 17.86786717 15.40849806 26.3630836  21.5193299\n",
      " 23.78733694 14.84041522 23.9445175  24.97067627 20.11366175 23.08636158\n",
      " 10.42208266 24.52832122 21.60847326 18.66228165 24.53362832 31.03502944\n",
      " 12.97457826 22.38536236 21.34822822 16.10928673 12.37477824 22.78596712\n",
      " 18.28714824 21.91802045 32.49771603 31.21256855 17.47867791 33.18861907\n",
      " 19.17896285 19.94662594 20.17142015 23.90228857 22.81288844 24.17911208\n",
      " 30.83402844 28.87481037 25.14581721  5.55072029 37.0183454  24.15428003\n",
      " 27.67587636 19.63884644 28.74874123 18.83204358 17.63305678 37.97947167\n",
      " 39.49507972 24.17228966 25.33605088 16.75044819 25.43224687 16.65089426\n",
      " 16.49186628 13.37283452 24.81689254 31.21188699 22.0891919  20.49360168\n",
      "  0.8229737  25.5004737  15.5481509  17.72901193 25.77663998 22.43131323]\n"
     ]
    }
   ],
   "source": [
    "print(y_pred)"
   ]
  },
  {
   "cell_type": "code",
   "execution_count": 156,
   "id": "962fc0f8-576e-48ed-be53-2d4f9d5c7d79",
   "metadata": {},
   "outputs": [
    {
     "data": {
      "image/png": "[encoded data removed]",
      "text/plain": [
       "<Figure size 640x480 with 1 Axes>"
      ]
     },
     "metadata": {},
     "output_type": "display_data"
    }
   ],
   "source": [
    "plt.scatter(y_test, y_pred, c = 'green')\n",
    "plt.xlabel(\"Price: in $1000's\")\n",
    "plt.ylabel(\"Predicted value\")\n",
    "plt.title(\"True value vs predicted value : Linear Regression\")\n",
    "plt.show()"
   ]
  },
  {
   "cell_type": "code",
   "execution_count": null,
   "id": "1604b8e3-643a-476b-8dc3-ddf997998550",
   "metadata": {},
   "outputs": [],
   "source": []
  }
 ],
 "metadata": {
  "kernelspec": {
   "display_name": "Python 3 (ipykernel)",
   "language": "python",
   "name": "python3"
  },
  "language_info": {
   "codemirror_mode": {
    "name": "ipython",
    "version": 3
   },
   "file_extension": ".py",
   "mimetype": "text/x-python",
   "name": "python",
   "nbconvert_exporter": "python",
   "pygments_lexer": "ipython3",
   "version": "3.11.5"
  }
 },
 "nbformat": 4,
 "nbformat_minor": 5
}
